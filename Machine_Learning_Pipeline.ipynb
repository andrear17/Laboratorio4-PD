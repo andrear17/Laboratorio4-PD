{
 "metadata": {
  "language_info": {
   "codemirror_mode": {
    "name": "ipython",
    "version": 3
   },
   "file_extension": ".py",
   "mimetype": "text/x-python",
   "name": "python",
   "nbconvert_exporter": "python",
   "pygments_lexer": "ipython3",
   "version": "3.9.2-final"
  },
  "orig_nbformat": 2,
  "kernelspec": {
   "name": "python3",
   "display_name": "Python 3.9.2 64-bit",
   "metadata": {
    "interpreter": {
     "hash": "d0f1a46e1b8bb49f6fe66dfa14ba01e1c4ea6e7377c07a6040c9a42d856a631d"
    }
   }
  }
 },
 "nbformat": 4,
 "nbformat_minor": 2,
 "cells": [
  {
   "source": [
    "# Laboratorio 4 - Pipeline\n",
    "Andrea Cecilia Rivas Castañeda\n",
    "16001120"
   ],
   "cell_type": "markdown",
   "metadata": {}
  },
  {
   "cell_type": "code",
   "execution_count": 1,
   "metadata": {},
   "outputs": [],
   "source": [
    "import pandas as pd\n",
    "import numpy as np\n",
    "\n",
    "import matplotlib.pyplot as plt\n",
    "\n",
    "from feature_engine.encoding import OneHotEncoder\n",
    "\n",
    "from sklearn.linear_model import LassoCV\n",
    "from sklearn.feature_selection import SequentialFeatureSelector\n",
    "from sklearn.linear_model import LogisticRegression\n",
    "from sklearn.metrics import accuracy_score\n",
    "from sklearn.model_selection import train_test_split\n",
    "from sklearn.preprocessing import MinMaxScaler, Binarizer\n",
    "from sklearn.pipeline import Pipeline\n",
    "\n",
    "from feature_engine.imputation import(\n",
    "    AddMissingIndicator,\n",
    "    MeanMedianImputer,\n",
    "    CategoricalImputer\n",
    ")"
   ]
  },
  {
   "cell_type": "code",
   "execution_count": 2,
   "metadata": {},
   "outputs": [
    {
     "output_type": "execute_result",
     "data": {
      "text/plain": [
       "   PassengerId  Survived  Pclass  \\\n",
       "0            1         0       3   \n",
       "1            2         1       1   \n",
       "2            3         1       3   \n",
       "3            4         1       1   \n",
       "4            5         0       3   \n",
       "\n",
       "                                                Name     Sex   Age  SibSp  \\\n",
       "0                            Braund, Mr. Owen Harris    male  22.0      1   \n",
       "1  Cumings, Mrs. John Bradley (Florence Briggs Th...  female  38.0      1   \n",
       "2                             Heikkinen, Miss. Laina  female  26.0      0   \n",
       "3       Futrelle, Mrs. Jacques Heath (Lily May Peel)  female  35.0      1   \n",
       "4                           Allen, Mr. William Henry    male  35.0      0   \n",
       "\n",
       "   Parch            Ticket     Fare Cabin Embarked  \n",
       "0      0         A/5 21171   7.2500   NaN        S  \n",
       "1      0          PC 17599  71.2833   C85        C  \n",
       "2      0  STON/O2. 3101282   7.9250   NaN        S  \n",
       "3      0            113803  53.1000  C123        S  \n",
       "4      0            373450   8.0500   NaN        S  "
      ],
      "text/html": "<div>\n<style scoped>\n    .dataframe tbody tr th:only-of-type {\n        vertical-align: middle;\n    }\n\n    .dataframe tbody tr th {\n        vertical-align: top;\n    }\n\n    .dataframe thead th {\n        text-align: right;\n    }\n</style>\n<table border=\"1\" class=\"dataframe\">\n  <thead>\n    <tr style=\"text-align: right;\">\n      <th></th>\n      <th>PassengerId</th>\n      <th>Survived</th>\n      <th>Pclass</th>\n      <th>Name</th>\n      <th>Sex</th>\n      <th>Age</th>\n      <th>SibSp</th>\n      <th>Parch</th>\n      <th>Ticket</th>\n      <th>Fare</th>\n      <th>Cabin</th>\n      <th>Embarked</th>\n    </tr>\n  </thead>\n  <tbody>\n    <tr>\n      <th>0</th>\n      <td>1</td>\n      <td>0</td>\n      <td>3</td>\n      <td>Braund, Mr. Owen Harris</td>\n      <td>male</td>\n      <td>22.0</td>\n      <td>1</td>\n      <td>0</td>\n      <td>A/5 21171</td>\n      <td>7.2500</td>\n      <td>NaN</td>\n      <td>S</td>\n    </tr>\n    <tr>\n      <th>1</th>\n      <td>2</td>\n      <td>1</td>\n      <td>1</td>\n      <td>Cumings, Mrs. John Bradley (Florence Briggs Th...</td>\n      <td>female</td>\n      <td>38.0</td>\n      <td>1</td>\n      <td>0</td>\n      <td>PC 17599</td>\n      <td>71.2833</td>\n      <td>C85</td>\n      <td>C</td>\n    </tr>\n    <tr>\n      <th>2</th>\n      <td>3</td>\n      <td>1</td>\n      <td>3</td>\n      <td>Heikkinen, Miss. Laina</td>\n      <td>female</td>\n      <td>26.0</td>\n      <td>0</td>\n      <td>0</td>\n      <td>STON/O2. 3101282</td>\n      <td>7.9250</td>\n      <td>NaN</td>\n      <td>S</td>\n    </tr>\n    <tr>\n      <th>3</th>\n      <td>4</td>\n      <td>1</td>\n      <td>1</td>\n      <td>Futrelle, Mrs. Jacques Heath (Lily May Peel)</td>\n      <td>female</td>\n      <td>35.0</td>\n      <td>1</td>\n      <td>0</td>\n      <td>113803</td>\n      <td>53.1000</td>\n      <td>C123</td>\n      <td>S</td>\n    </tr>\n    <tr>\n      <th>4</th>\n      <td>5</td>\n      <td>0</td>\n      <td>3</td>\n      <td>Allen, Mr. William Henry</td>\n      <td>male</td>\n      <td>35.0</td>\n      <td>0</td>\n      <td>0</td>\n      <td>373450</td>\n      <td>8.0500</td>\n      <td>NaN</td>\n      <td>S</td>\n    </tr>\n  </tbody>\n</table>\n</div>"
     },
     "metadata": {},
     "execution_count": 2
    }
   ],
   "source": [
    "data = pd.read_csv(\"train.csv\")\n",
    "data.head()"
   ]
  },
  {
   "cell_type": "code",
   "execution_count": 3,
   "metadata": {},
   "outputs": [
    {
     "output_type": "execute_result",
     "data": {
      "text/plain": [
       "   Survived  Pclass     Sex   Age  SibSp  Parch            Ticket     Fare  \\\n",
       "0         0       3    male  22.0      1      0         A/5 21171   7.2500   \n",
       "1         1       1  female  38.0      1      0          PC 17599  71.2833   \n",
       "2         1       3  female  26.0      0      0  STON/O2. 3101282   7.9250   \n",
       "3         1       1  female  35.0      1      0            113803  53.1000   \n",
       "4         0       3    male  35.0      0      0            373450   8.0500   \n",
       "\n",
       "  Embarked  \n",
       "0        S  \n",
       "1        C  \n",
       "2        S  \n",
       "3        S  \n",
       "4        S  "
      ],
      "text/html": "<div>\n<style scoped>\n    .dataframe tbody tr th:only-of-type {\n        vertical-align: middle;\n    }\n\n    .dataframe tbody tr th {\n        vertical-align: top;\n    }\n\n    .dataframe thead th {\n        text-align: right;\n    }\n</style>\n<table border=\"1\" class=\"dataframe\">\n  <thead>\n    <tr style=\"text-align: right;\">\n      <th></th>\n      <th>Survived</th>\n      <th>Pclass</th>\n      <th>Sex</th>\n      <th>Age</th>\n      <th>SibSp</th>\n      <th>Parch</th>\n      <th>Ticket</th>\n      <th>Fare</th>\n      <th>Embarked</th>\n    </tr>\n  </thead>\n  <tbody>\n    <tr>\n      <th>0</th>\n      <td>0</td>\n      <td>3</td>\n      <td>male</td>\n      <td>22.0</td>\n      <td>1</td>\n      <td>0</td>\n      <td>A/5 21171</td>\n      <td>7.2500</td>\n      <td>S</td>\n    </tr>\n    <tr>\n      <th>1</th>\n      <td>1</td>\n      <td>1</td>\n      <td>female</td>\n      <td>38.0</td>\n      <td>1</td>\n      <td>0</td>\n      <td>PC 17599</td>\n      <td>71.2833</td>\n      <td>C</td>\n    </tr>\n    <tr>\n      <th>2</th>\n      <td>1</td>\n      <td>3</td>\n      <td>female</td>\n      <td>26.0</td>\n      <td>0</td>\n      <td>0</td>\n      <td>STON/O2. 3101282</td>\n      <td>7.9250</td>\n      <td>S</td>\n    </tr>\n    <tr>\n      <th>3</th>\n      <td>1</td>\n      <td>1</td>\n      <td>female</td>\n      <td>35.0</td>\n      <td>1</td>\n      <td>0</td>\n      <td>113803</td>\n      <td>53.1000</td>\n      <td>S</td>\n    </tr>\n    <tr>\n      <th>4</th>\n      <td>0</td>\n      <td>3</td>\n      <td>male</td>\n      <td>35.0</td>\n      <td>0</td>\n      <td>0</td>\n      <td>373450</td>\n      <td>8.0500</td>\n      <td>S</td>\n    </tr>\n  </tbody>\n</table>\n</div>"
     },
     "metadata": {},
     "execution_count": 3
    }
   ],
   "source": [
    "data.drop(['PassengerId', 'Cabin', 'Name'], axis = 1, inplace=True)\n",
    "data.head()"
   ]
  },
  {
   "cell_type": "code",
   "execution_count": 4,
   "metadata": {},
   "outputs": [],
   "source": [
    "X_train, X_test, y_train, y_test = train_test_split(\n",
    "        data.drop(['Survived'], axis=1),\n",
    "        data['Survived'],\n",
    "        test_size=0.3,\n",
    "        random_state=2022)"
   ]
  },
  {
   "cell_type": "code",
   "execution_count": 5,
   "metadata": {},
   "outputs": [],
   "source": [
    "# TRATAMIENTO DE NAs\n",
    "CATEGORICAL_VARS_WITH_NA_MISSING = ['Embarked']\n",
    "\n",
    "NUMERICAL_VARS_WITH_NA = ['Age']\n",
    "\n",
    "# TRANSFORMACIÓN DE VARS CATEGÓRICAS\n",
    "OH_ENCODING_VARS = ['Sex']\n",
    "\n",
    "FREQUENCY_ENCODING_VARS = ['Ticket']\n",
    "\n",
    "CAT_ORDINAL_ENCODING_VARS = ['Embarked']\n",
    "\n",
    "# TRANSFORMACIÓN DE VARS NUMERICAS\n",
    "#Variables para binarización por sesgo fuerte\n",
    "BINARIZE_VARS = ['SibSp', 'Parch']\n",
    "\n",
    "NJ_TRANSFORM = ['Age']\n",
    "LOG_TRANSFORM = ['Fare']\n",
    "\n",
    "# VARIABLES SELECCIONADAS\n",
    "FEATURES = ['Pclass', 'Sex']"
   ]
  },
  {
   "cell_type": "code",
   "execution_count": 6,
   "metadata": {},
   "outputs": [],
   "source": [
    "survivedTitanic_pipeline = Pipeline([\n",
    "    # IMPUTACIONES\n",
    "    # Categoricas\n",
    "    ('missing_imputation', \n",
    "         CategoricalImputer(imputation_method='frequent', variables=CATEGORICAL_VARS_WITH_NA_MISSING)\n",
    "    ),\n",
    "    # Numericas\n",
    "    ('missing_indicator', AddMissingIndicator(variables=NUMERICAL_VARS_WITH_NA)),\n",
    "    \n",
    "    #4. Imputación de mediana para variables categoricas\n",
    "    ('mean_imputation', MeanMedianImputer(\n",
    "        imputation_method='mean', variables=NUMERICAL_VARS_WITH_NA)\n",
    "    )\n",
    "\n",
    "])"
   ]
  },
  {
   "cell_type": "code",
   "execution_count": 7,
   "metadata": {},
   "outputs": [
    {
     "output_type": "execute_result",
     "data": {
      "text/plain": [
       "Pipeline(steps=[('missing_imputation',\n",
       "                 CategoricalImputer(imputation_method='frequent',\n",
       "                                    variables=['Embarked'])),\n",
       "                ('missing_indicator', AddMissingIndicator(variables=['Age'])),\n",
       "                ('mean_imputation',\n",
       "                 MeanMedianImputer(imputation_method='mean',\n",
       "                                   variables=['Age']))])"
      ]
     },
     "metadata": {},
     "execution_count": 7
    }
   ],
   "source": [
    "survivedTitanic_pipeline.fit(X_train, y_train)"
   ]
  },
  {
   "cell_type": "code",
   "execution_count": 8,
   "metadata": {},
   "outputs": [
    {
     "output_type": "execute_result",
     "data": {
      "text/plain": [
       "     Pclass     Sex        Age  SibSp  Parch    Ticket     Fare Embarked  \\\n",
       "770       3    male  24.000000      0      0    345781   9.5000        S   \n",
       "178       2    male  30.000000      0      0    250653  13.0000        S   \n",
       "786       3  female  18.000000      0      0   3101265   7.4958        S   \n",
       "159       3    male  29.305332      8      2  CA. 2343  69.5500        S   \n",
       "656       3    male  29.305332      0      0    349223   7.8958        S   \n",
       "..      ...     ...        ...    ...    ...       ...      ...      ...   \n",
       "693       3    male  25.000000      0      0      2672   7.2250        C   \n",
       "79        3  female  30.000000      0      0    364516  12.4750        S   \n",
       "71        3  female  16.000000      5      2   CA 2144  46.9000        S   \n",
       "503       3  female  37.000000      0      0      4135   9.5875        S   \n",
       "828       3    male  29.305332      0      0    367228   7.7500        Q   \n",
       "\n",
       "     Age_na  \n",
       "770       0  \n",
       "178       0  \n",
       "786       0  \n",
       "159       1  \n",
       "656       1  \n",
       "..      ...  \n",
       "693       0  \n",
       "79        0  \n",
       "71        0  \n",
       "503       0  \n",
       "828       1  \n",
       "\n",
       "[268 rows x 9 columns]"
      ],
      "text/html": "<div>\n<style scoped>\n    .dataframe tbody tr th:only-of-type {\n        vertical-align: middle;\n    }\n\n    .dataframe tbody tr th {\n        vertical-align: top;\n    }\n\n    .dataframe thead th {\n        text-align: right;\n    }\n</style>\n<table border=\"1\" class=\"dataframe\">\n  <thead>\n    <tr style=\"text-align: right;\">\n      <th></th>\n      <th>Pclass</th>\n      <th>Sex</th>\n      <th>Age</th>\n      <th>SibSp</th>\n      <th>Parch</th>\n      <th>Ticket</th>\n      <th>Fare</th>\n      <th>Embarked</th>\n      <th>Age_na</th>\n    </tr>\n  </thead>\n  <tbody>\n    <tr>\n      <th>770</th>\n      <td>3</td>\n      <td>male</td>\n      <td>24.000000</td>\n      <td>0</td>\n      <td>0</td>\n      <td>345781</td>\n      <td>9.5000</td>\n      <td>S</td>\n      <td>0</td>\n    </tr>\n    <tr>\n      <th>178</th>\n      <td>2</td>\n      <td>male</td>\n      <td>30.000000</td>\n      <td>0</td>\n      <td>0</td>\n      <td>250653</td>\n      <td>13.0000</td>\n      <td>S</td>\n      <td>0</td>\n    </tr>\n    <tr>\n      <th>786</th>\n      <td>3</td>\n      <td>female</td>\n      <td>18.000000</td>\n      <td>0</td>\n      <td>0</td>\n      <td>3101265</td>\n      <td>7.4958</td>\n      <td>S</td>\n      <td>0</td>\n    </tr>\n    <tr>\n      <th>159</th>\n      <td>3</td>\n      <td>male</td>\n      <td>29.305332</td>\n      <td>8</td>\n      <td>2</td>\n      <td>CA. 2343</td>\n      <td>69.5500</td>\n      <td>S</td>\n      <td>1</td>\n    </tr>\n    <tr>\n      <th>656</th>\n      <td>3</td>\n      <td>male</td>\n      <td>29.305332</td>\n      <td>0</td>\n      <td>0</td>\n      <td>349223</td>\n      <td>7.8958</td>\n      <td>S</td>\n      <td>1</td>\n    </tr>\n    <tr>\n      <th>...</th>\n      <td>...</td>\n      <td>...</td>\n      <td>...</td>\n      <td>...</td>\n      <td>...</td>\n      <td>...</td>\n      <td>...</td>\n      <td>...</td>\n      <td>...</td>\n    </tr>\n    <tr>\n      <th>693</th>\n      <td>3</td>\n      <td>male</td>\n      <td>25.000000</td>\n      <td>0</td>\n      <td>0</td>\n      <td>2672</td>\n      <td>7.2250</td>\n      <td>C</td>\n      <td>0</td>\n    </tr>\n    <tr>\n      <th>79</th>\n      <td>3</td>\n      <td>female</td>\n      <td>30.000000</td>\n      <td>0</td>\n      <td>0</td>\n      <td>364516</td>\n      <td>12.4750</td>\n      <td>S</td>\n      <td>0</td>\n    </tr>\n    <tr>\n      <th>71</th>\n      <td>3</td>\n      <td>female</td>\n      <td>16.000000</td>\n      <td>5</td>\n      <td>2</td>\n      <td>CA 2144</td>\n      <td>46.9000</td>\n      <td>S</td>\n      <td>0</td>\n    </tr>\n    <tr>\n      <th>503</th>\n      <td>3</td>\n      <td>female</td>\n      <td>37.000000</td>\n      <td>0</td>\n      <td>0</td>\n      <td>4135</td>\n      <td>9.5875</td>\n      <td>S</td>\n      <td>0</td>\n    </tr>\n    <tr>\n      <th>828</th>\n      <td>3</td>\n      <td>male</td>\n      <td>29.305332</td>\n      <td>0</td>\n      <td>0</td>\n      <td>367228</td>\n      <td>7.7500</td>\n      <td>Q</td>\n      <td>1</td>\n    </tr>\n  </tbody>\n</table>\n<p>268 rows × 9 columns</p>\n</div>"
     },
     "metadata": {},
     "execution_count": 8
    }
   ],
   "source": [
    "survivedTitanic_pipeline.transform(X_test)"
   ]
  }
 ]
}